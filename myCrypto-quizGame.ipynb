{
 "cells": [
  {
   "cell_type": "markdown",
   "metadata": {},
   "source": [
    "## My Crypto Quiz Game\n",
    "##### Developer: Nicholas K. A.\n",
    "##### Repository: https://github.com/devn7ck/python-crypto-quizgame\n",
    "##### Programming language(s): Python"
   ]
  },
  {
   "cell_type": "markdown",
   "metadata": {},
   "source": [
    "### Import necessary libraries"
   ]
  },
  {
   "cell_type": "code",
   "execution_count": null,
   "metadata": {},
   "outputs": [
    {
     "ename": "",
     "evalue": "",
     "output_type": "error",
     "traceback": [
      "\u001b[1;31mRunning cells with 'Python 3.9.2 64-bit' requires ipykernel package.\n",
      "Run the following command to install 'ipykernel' into the Python environment. \n",
      "Command: '/bin/python3.9 -m pip install ipykernel -U --user --force-reinstall'"
     ]
    }
   ],
   "source": [
    "import time\n",
    "import os\n",
    "import sys"
   ]
  },
  {
   "cell_type": "markdown",
   "metadata": {},
   "source": [
    "### Message title"
   ]
  },
  {
   "cell_type": "code",
   "execution_count": null,
   "metadata": {},
   "outputs": [],
   "source": [
    "print(\"\\n__________ 🎮MY CRYPTO QUIZ GAME🎮 ___________\\n\")\n",
    "print(\"Play while you earn🤑.....\\n\\n\")\n"
   ]
  },
  {
   "cell_type": "markdown",
   "metadata": {},
   "source": [
    "### Function to delay program(game) for 3 seconds"
   ]
  },
  {
   "cell_type": "code",
   "execution_count": null,
   "metadata": {},
   "outputs": [],
   "source": [
    "\n",
    "time.sleep(3)"
   ]
  },
  {
   "cell_type": "markdown",
   "metadata": {},
   "source": [
    "### Player name request\n"
   ]
  },
  {
   "cell_type": "code",
   "execution_count": null,
   "metadata": {},
   "outputs": [],
   "source": [
    "player = input(\"\\nEnter your player name here🧑: \\n\")\n"
   ]
  },
  {
   "cell_type": "markdown",
   "metadata": {},
   "source": [
    "### Error Message on null input"
   ]
  },
  {
   "cell_type": "code",
   "execution_count": null,
   "metadata": {},
   "outputs": [],
   "source": [
    "while player.lower() == '':\n",
    "    print(\"ERROR: INVALID INPUT😕\")\n",
    "    player = input()\n",
    "\n",
    "    if player.lower() != '':\n",
    "        break\n"
   ]
  },
  {
   "cell_type": "markdown",
   "metadata": {},
   "source": [
    "### Requests player input to begin the game\n"
   ]
  },
  {
   "cell_type": "code",
   "execution_count": null,
   "metadata": {},
   "outputs": [],
   "source": [
    "play = input(\"\\nHey there \"+ player +\"!, would you like to proceed🔐?(y/n) \\n\")\n"
   ]
  },
  {
   "cell_type": "markdown",
   "metadata": {},
   "source": [
    "### Declaring default variable"
   ]
  },
  {
   "cell_type": "code",
   "execution_count": null,
   "metadata": {},
   "outputs": [],
   "source": [
    "user_input = 'False'"
   ]
  },
  {
   "cell_type": "markdown",
   "metadata": {},
   "source": [
    "### Modifies variable if condition is true"
   ]
  },
  {
   "cell_type": "code",
   "execution_count": null,
   "metadata": {},
   "outputs": [],
   "source": [
    "if play.lower() == 'n' or play.lower() == 'y' or play.lower() == 'no' or play.lower() == 'yes':\n",
    "    user_input = 'True'"
   ]
  },
  {
   "cell_type": "markdown",
   "metadata": {},
   "source": [
    "### Return an error message if condition is not met"
   ]
  },
  {
   "cell_type": "code",
   "execution_count": null,
   "metadata": {},
   "outputs": [],
   "source": [
    "while user_input != 'True':   \n",
    "    print(\"ERROR: INVALID INPUT😕\")\n",
    "    play = input()\n",
    "\n",
    "    if play.lower() == 'n' or play.lower() == 'y' or play.lower() == 'no' or play.lower() == 'yes':\n",
    "        break"
   ]
  },
  {
   "cell_type": "markdown",
   "metadata": {},
   "source": [
    "### Condition to exit or continue game\n"
   ]
  },
  {
   "cell_type": "code",
   "execution_count": null,
   "metadata": {},
   "outputs": [],
   "source": [
    "if play.lower() == 'n' or play.lower() == 'no':\n",
    "    print(\"\\nWe're sad to see you leave \", player,\". \\nGoodBye🥺.\")\n",
    "    os.system(\"pause\")\n",
    "    quit()  \n",
    "else:\n",
    "    print(\"\\nAlright\",player +\", we wish you good fortunes.\\nENJOY!! 🤗\")\n"
   ]
  },
  {
   "cell_type": "markdown",
   "metadata": {},
   "source": [
    "### Function to delay program(game)"
   ]
  },
  {
   "cell_type": "code",
   "execution_count": null,
   "metadata": {},
   "outputs": [],
   "source": [
    "time.sleep(2)\n",
    "print(\"\\nYour quiz will start in a few seconds...\")\n",
    "time.sleep(5)"
   ]
  },
  {
   "cell_type": "markdown",
   "metadata": {},
   "source": [
    "### Initializing variables"
   ]
  },
  {
   "cell_type": "code",
   "execution_count": null,
   "metadata": {},
   "outputs": [],
   "source": [
    "score = 0\n",
    "coins = 0.00000\n",
    "count = 0"
   ]
  },
  {
   "cell_type": "markdown",
   "metadata": {},
   "source": [
    "### Instruction message on how to play the game"
   ]
  },
  {
   "cell_type": "code",
   "execution_count": null,
   "metadata": {},
   "outputs": [],
   "source": [
    "print(\"\\n\\n\\n***** Kindly answer the questions provided with its corresponding alphabets😊.*****\\n\\n\")\n"
   ]
  },
  {
   "cell_type": "markdown",
   "metadata": {},
   "source": [
    "### Function to delay program(game) for 3 seconds"
   ]
  },
  {
   "cell_type": "code",
   "execution_count": null,
   "metadata": {},
   "outputs": [],
   "source": [
    "time.sleep(3)"
   ]
  },
  {
   "cell_type": "markdown",
   "metadata": {},
   "source": [
    "### An array of game questions"
   ]
  },
  {
   "cell_type": "code",
   "execution_count": null,
   "metadata": {},
   "outputs": [],
   "source": [
    "questions = [ ' What does CPU stand for?\\n a. Center Process Uniform    b. Central Procure Unit     c. Central Processing Unit     d. Central Processing Unix',\n",
    "            ' Who founded Apple Computer\\n a. Stephen Fry     b. Bill Gates      c. Stephen Hawking    d. Steve Jobs',\n",
    "            ' Where is the CPU located?\\n a. On the motherboard    b. On the fatherboard      c. On the auntieboard      d. On the ROM',\n",
    "            ' Which device is used for clicking?\\n a. Mice      b. Mouse    c. Monitor      d. Mic',\n",
    "            ' Which of the following devices displays the desktop?\\n a. VRA     b. Photocronic lense    c. LCD      d. Headphone',\n",
    "            ' How many computer languages are in use?\\n a. 2000     b. 5000     c. 50   d. 20',\n",
    "            ' Who was responsible for some of the earliest, widely influential development of military rockets?\\n a. Elon Musk      b. William Congreve       c. Hermann Oberth     d. Robert Hutchings Goddard',\n",
    "            ' What does fiber optic cable resemble, in terms of size?\\n a. Pipeline     b. Bamboo      c. Telephone wire        d. Human hair',\n",
    "            ' When did the compact disc first appear on the market?\\n a. 1982     b. 1992     c. 1955     d. 1989',\n",
    "            ' Who invented flexible photographic film?\\n a. Leonardo da Vinci     b. Linda Eastman    c. George Eastman     d. Louis Daguerre'\n",
    "            ]\n"
   ]
  },
  {
   "cell_type": "markdown",
   "metadata": {},
   "source": [
    "### Game answers stored in an array"
   ]
  },
  {
   "cell_type": "code",
   "execution_count": null,
   "metadata": {},
   "outputs": [],
   "source": [
    "answers = [ 'c',\n",
    "            'd',\n",
    "            'a',\n",
    "            'b',\n",
    "            'c',\n",
    "            'a',\n",
    "            'b',\n",
    "            'd',\n",
    "            'a',\n",
    "            'c'\n",
    "        ]"
   ]
  },
  {
   "cell_type": "markdown",
   "metadata": {},
   "source": [
    "### Condition to display question and process answers simultaneously\n"
   ]
  },
  {
   "cell_type": "code",
   "execution_count": null,
   "metadata": {},
   "outputs": [],
   "source": [
    "for answer in questions:\n",
    "    print(questions[count])\n",
    "    answer = input()\n",
    "\n",
    "    if answer.lower() == answers[count]:\n",
    "        print(\"✔️\\n\")\n",
    "        score += 1\n",
    "        coins += 0.00252\n",
    "    else:\n",
    "        print(\"❌\\n\")\n",
    "\n",
    "    count += 1\n",
    "\n",
    "    if count == 5:\n",
    "        print(\"\\n\\n\\n*** FINAL ROUND ***\\n\\n\")\n",
    "        time.sleep(4)\n"
   ]
  },
  {
   "cell_type": "markdown",
   "metadata": {},
   "source": [
    "### Score sheet display\n"
   ]
  },
  {
   "cell_type": "code",
   "execution_count": null,
   "metadata": {},
   "outputs": [],
   "source": [
    "print(\"\\n\\n\\nSCORE SHEET:\")   \n",
    "print(\"You had \" + str(score)+ \" answer(s) right and \" + str(count - score) + \" wrong(s).\")\n",
    "print(\"You scored \" + str((score/10) *100))"
   ]
  },
  {
   "cell_type": "markdown",
   "metadata": {},
   "source": [
    "### Display coins earned"
   ]
  },
  {
   "cell_type": "code",
   "execution_count": null,
   "metadata": {},
   "outputs": [],
   "source": [
    "print(\"\\n\\nREWARD:\")\n",
    "if score != 0 or coins != 0:\n",
    "    print(\"Congratulations \" + player + \"🎉. You earned \" + str(coins) + \"BTC\")\n",
    "else:\n",
    "    print(\"Too bad \" + player +\"😓, better luck next time.\")\n"
   ]
  },
  {
   "cell_type": "markdown",
   "metadata": {},
   "source": [
    "### Function to pause the program(game)"
   ]
  },
  {
   "cell_type": "code",
   "execution_count": null,
   "metadata": {},
   "outputs": [],
   "source": [
    "os.system(\"pause\")"
   ]
  }
 ],
 "metadata": {
  "interpreter": {
   "hash": "916dbcbb3f70747c44a77c7bcd40155683ae19c65e1c03b4aa3499c5328201f1"
  },
  "kernelspec": {
   "display_name": "Python 3.10.4 64-bit",
   "language": "python",
   "name": "python3"
  },
  "language_info": {
   "name": "python",
   "version": "3.10.4"
  },
  "orig_nbformat": 4
 },
 "nbformat": 4,
 "nbformat_minor": 2
}
